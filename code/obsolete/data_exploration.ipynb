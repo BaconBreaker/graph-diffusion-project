{
 "cells": [
  {
   "attachments": {},
   "cell_type": "markdown",
   "metadata": {},
   "source": [
    "# Imports"
   ]
  },
  {
   "cell_type": "code",
   "execution_count": 1,
   "metadata": {},
   "outputs": [],
   "source": [
    "import h5py\n",
    "import torch\n",
    "from torch_geometric.data import Data\n",
    "from torch_geometric.loader import DataLoader\n",
    "import torch_geometric\n",
    "import networkx as nx\n",
    "import matplotlib.pyplot as plt\n",
    "import numpy as np\n",
    "import os\n",
    "import glob\n",
    "from dataloader import SimpleGraphDataLoader\n",
    "from collections import Counter"
   ]
  },
  {
   "attachments": {},
   "cell_type": "markdown",
   "metadata": {},
   "source": [
    "# Load data"
   ]
  },
  {
   "cell_type": "code",
   "execution_count": 4,
   "metadata": {},
   "outputs": [
    {
     "name": "stdout",
     "output_type": "stream",
     "text": [
      "torch.Size([23, 3]) tensor(5.3914) tensor(-5.3914)\n"
     ]
    }
   ],
   "source": [
    "with h5py.File(\"/home/thomas/graph-diffusion-project/graphs_h5/graph_AntiFlourite_Ra2O_r5.h5\", 'r') as file:\n",
    "        edge_features = torch.tensor(file['edge_attributes'][:], dtype=torch.float32) # Edge attributes\n",
    "        edge_indices = torch.tensor(file['edge_indices'][:], dtype=torch.long) # Edge (sparse) adjecency matrix\n",
    "        node_features = torch.tensor(file['node_attributes'][:], dtype=torch.float32) # Node attributes\n",
    "\n",
    "        xyz = node_features[:, 4:7]\n",
    "        print(xyz.shape, xyz.max(), xyz.min())"
   ]
  },
  {
   "cell_type": "code",
   "execution_count": 143,
   "metadata": {},
   "outputs": [
    {
     "name": "stdout",
     "output_type": "stream",
     "text": [
      "1728\n"
     ]
    }
   ],
   "source": [
    "mol_paths = glob.glob(\"/home/thomas/graph-diffusion-project/graphs_h5/*\")\n",
    "print(len(mol_paths))"
   ]
  },
  {
   "cell_type": "code",
   "execution_count": 144,
   "metadata": {},
   "outputs": [],
   "source": [
    "def load_structure(path):\n",
    "\n",
    "    with h5py.File(path, 'r') as file:\n",
    "        edge_features = torch.tensor(file['edge_attributes'][:], dtype=torch.float32) # Edge attributes\n",
    "        edge_indices = torch.tensor(file['edge_indices'][:], dtype=torch.long) # Edge (sparse) adjecency matrix\n",
    "        node_features = torch.tensor(file['node_attributes'][:], dtype=torch.float32) # Node attributes\n",
    "\n",
    "        r = file['r'][...] # Real space (x-axis)\n",
    "        pdf = file['pdf'][...] # G(r) (y-axis)\n",
    "\n",
    "        # Here you can do some normalisation of the node features and perhaps pick out which you want to include.\n",
    "\n",
    "        graph = Data(x = node_features, y = pdf, edge_attr = edge_features, edge_index = edge_indices)\n",
    "    return graph"
   ]
  },
  {
   "cell_type": "code",
   "execution_count": 145,
   "metadata": {},
   "outputs": [],
   "source": [
    "loader = DataLoader([load_structure(path) for path in mol_paths], batch_size=1, shuffle=True)"
   ]
  },
  {
   "cell_type": "code",
   "execution_count": 146,
   "metadata": {},
   "outputs": [],
   "source": [
    "loader = [d for d in loader if d.x.shape[0] == 23]"
   ]
  },
  {
   "cell_type": "code",
   "execution_count": 147,
   "metadata": {},
   "outputs": [
    {
     "data": {
      "text/plain": [
       "3"
      ]
     },
     "execution_count": 147,
     "metadata": {},
     "output_type": "execute_result"
    }
   ],
   "source": [
    "len([d for d in loader if d.x.shape[0] <= 23])"
   ]
  },
  {
   "cell_type": "code",
   "execution_count": 148,
   "metadata": {},
   "outputs": [
    {
     "name": "stdout",
     "output_type": "stream",
     "text": [
      "DataBatch(x=[23, 7], edge_index=[2, 56], edge_attr=[56], y=[1], batch=[23], ptr=[2])\n"
     ]
    }
   ],
   "source": [
    "g = loader[0]\n",
    "print(g)"
   ]
  },
  {
   "cell_type": "code",
   "execution_count": 149,
   "metadata": {},
   "outputs": [],
   "source": [
    "import pandas as pd\n",
    "from mendeleev import element"
   ]
  },
  {
   "cell_type": "code",
   "execution_count": 150,
   "metadata": {},
   "outputs": [],
   "source": [
    "def xyz_to_str(xyz, atom_species=None):\n",
    "    \"\"\"\n",
    "    Write a string in format ovito can read\n",
    "    args:\n",
    "        xyz: np.array of shape (n_atoms, 3)\n",
    "        atom_species: np.array of shape (n_atoms, 1)\n",
    "    returns:\n",
    "        s: string in ovito format\n",
    "    \"\"\"\n",
    "    n_atoms = xyz.shape[0]\n",
    "    if atom_species is None:\n",
    "        atom_species = np.array([\"C\"]*n_atoms).reshape(-1, 1)\n",
    "\n",
    "    # if atom_species is number, convert to atomic symbol\n",
    "    if atom_species.dtype != str:\n",
    "        atom_species = np.array(\n",
    "            [element(int(atom)).symbol if atom else atom for atom in atom_species]).reshape(-1, 1)\n",
    "\n",
    "    s = \"\"\n",
    "    vals = np.concatenate((atom_species, xyz), axis=1)\n",
    "\n",
    "    # Number of atoms\n",
    "    s += str(n_atoms) + \"\\n\"\n",
    "    \n",
    "    # Comment line, just keep empty for now\n",
    "    s += \"\\n\"\n",
    "    \n",
    "    # Coordinates for each atom\n",
    "    for atom, x, y, z in vals:\n",
    "        s += f\"{atom} {x} {y} {z} \\n\"\n",
    "\n",
    "    return s\n",
    "\n",
    "\n",
    "def save_to_csv(file_name, s):\n",
    "    with open(file_name, \"w\") as f:\n",
    "        f.write(s)"
   ]
  },
  {
   "cell_type": "code",
   "execution_count": 154,
   "metadata": {},
   "outputs": [
    {
     "name": "stdout",
     "output_type": "stream",
     "text": [
      "/home/thomas/graph-diffusion-project/graphs_h5/graph_AntiFlourite_Ra2O_r5.h5\n"
     ]
    }
   ],
   "source": [
    "# Find the path to a graph with 23 nodes\n",
    "for p in mol_paths:\n",
    "    g = load_structure(p)\n",
    "    if g.x.shape[0] == 23:\n",
    "        print(p)\n",
    "        break"
   ]
  }
 ],
 "metadata": {
  "kernelspec": {
   "display_name": "pt",
   "language": "python",
   "name": "python3"
  },
  "language_info": {
   "codemirror_mode": {
    "name": "ipython",
    "version": 3
   },
   "file_extension": ".py",
   "mimetype": "text/x-python",
   "name": "python",
   "nbconvert_exporter": "python",
   "pygments_lexer": "ipython3",
   "version": "3.7.16"
  },
  "orig_nbformat": 4,
  "vscode": {
   "interpreter": {
    "hash": "60fd5696d2e412256a9fbb82b7f52898b1f62dc18217de82c863a0074c49d576"
   }
  }
 },
 "nbformat": 4,
 "nbformat_minor": 2
}
